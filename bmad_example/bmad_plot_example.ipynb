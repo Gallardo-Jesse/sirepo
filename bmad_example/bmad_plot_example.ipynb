{
 "cells": [
  {
   "cell_type": "markdown",
   "metadata": {},
   "source": [
    "# INSTALLATION:\n",
    "### install bmad:\n",
    "* `sudo dnf install rscode-bmad` \n",
    "    * I ran into conflicting file issues with the install. Here is how to resolve:\n",
    "    * delete the conflicting ones `sudo dnf remove ...`  (DO NOT REMOVE RSCODE-COMMON THOUGH)\n",
    "    * upgrade rscode-common `sudo dnf upgrade rscode-common`\n",
    "    * reinstall the removed ones `sudo dnf install ...`\n",
    "    * then `sudo dnf install rscode-bmad` worked\n",
    "### install pytao \n",
    "* `gcl https://github.com/bmad-sim/pytao.git`\n",
    "* `cd /pytao`\n",
    "* `pip install -e .`"
   ]
  },
  {
   "cell_type": "markdown",
   "metadata": {},
   "source": []
  },
  {
   "cell_type": "markdown",
   "metadata": {},
   "source": [
    "### FILES FOR tao\n",
    "### OMP_NUM_THREADS?"
   ]
  },
  {
   "cell_type": "code",
   "execution_count": 1,
   "metadata": {},
   "outputs": [],
   "source": [
    "from pytao import Tao, run_tao\n",
    "from pmd_beamphysics import ParticleGroup\n",
    "import matplotlib.pyplot as plt\n",
    "import numpy as np\n",
    "import os"
   ]
  },
  {
   "cell_type": "code",
   "execution_count": 2,
   "metadata": {},
   "outputs": [],
   "source": [
    "# os.environ['ACC_ROOT_DIR'] = '/home/vagrant/src/radiasoft/sirepo/bmad_example'"
   ]
  },
  {
   "cell_type": "code",
   "execution_count": 3,
   "metadata": {},
   "outputs": [],
   "source": [
    "# tao=run_tao(input_file='tao.init', verbose=True)\n",
    "tao=Tao('-init tao.init -lat lat.bmad -noplot')"
   ]
  },
  {
   "cell_type": "code",
   "execution_count": 4,
   "metadata": {},
   "outputs": [
    {
     "data": {
      "text/plain": [
       "['# Values shown are for the Exit End of each Element:',\n",
       " '# Index  name      key                       s       l    beta   phi_a    eta   orbit    beta   phi_b    eta   orbit  Track',\n",
       " '#                                                            a   [2pi]      x  x [mm]       b   [2pi]      y  y [mm]  State',\n",
       " '      0  BEGINNING Beginning_Ele         0.000     ---   10.00   0.000   0.00   0.000   10.00   0.000   0.00   0.000  Alive',\n",
       " '      1  D#1       Drift                 1.200   1.200   10.14   0.019   0.00   0.000   10.14   0.019   0.00   0.000  Alive',\n",
       " '      2  Q1        Quadrupole            1.300   0.100   10.07   0.021   0.00   0.000   10.27   0.021   0.00   0.000  Alive',\n",
       " '      3  D#2       Drift                 1.700   0.400    9.39   0.027   0.00   0.000   11.23   0.026   0.00   0.000  Alive',\n",
       " '      4  Q2        Quadrupole            1.800   0.100    9.32   0.029   0.00   0.000   11.37   0.028   0.00   0.000  Alive',\n",
       " '      5  D#3       Drift                 2.200   0.400    9.45   0.036   0.00   0.000   11.48   0.033   0.00   0.000  Alive',\n",
       " '      6  Q3        Quadrupole            2.300   0.100    9.40   0.037   0.00   0.000   11.63   0.035   0.00   0.000  Alive',\n",
       " '      7  D#4       Drift                 2.700   0.400    8.82   0.044   0.00   0.000   12.73   0.040   0.00   0.000  Alive',\n",
       " '      8  Q4        Quadrupole            2.800   0.100    8.77   0.046   0.00   0.000   12.89   0.041   0.00   0.000  Alive',\n",
       " '      9  D#5       Drift                 3.200   0.400    8.96   0.053   0.00   0.000   13.03   0.046   0.00   0.000  Alive',\n",
       " '     10  Q5        Quadrupole            3.300   0.100    8.92   0.055   0.00   0.000   13.20   0.047   0.00   0.000  Alive',\n",
       " '     11  D#6       Drift                 3.700   0.400    8.44   0.062   0.00   0.000   14.45   0.052   0.00   0.000  Alive',\n",
       " '     12  Q6        Quadrupole            3.800   0.100    8.42   0.064   0.00   0.000   14.63   0.053   0.00   0.000  Alive',\n",
       " '     13  D#7       Drift                 5.000   1.200    9.29   0.086   0.00   0.000   15.13   0.066   0.00   0.000  Alive',\n",
       " '     14  END       Marker                5.000   0.000    9.29   0.086   0.00   0.000   15.13   0.066   0.00   0.000  Alive',\n",
       " '# Index  name      key                       s       l    beta   phi_a    eta   orbit    beta   phi_b    eta   orbit  Track',\n",
       " '#                                                            a   [2pi]      x  x [mm]       b   [2pi]      y  y [mm]  State',\n",
       " '# Values shown are for the Exit End of each Element:']"
      ]
     },
     "execution_count": 4,
     "metadata": {},
     "output_type": "execute_result"
    }
   ],
   "source": [
    "tao.cmd('show lat')"
   ]
  },
  {
   "cell_type": "code",
   "execution_count": 5,
   "metadata": {},
   "outputs": [
    {
     "data": {
      "text/plain": [
       "[[]]"
      ]
     },
     "execution_count": 5,
     "metadata": {},
     "output_type": "execute_result"
    }
   ],
   "source": [
    "tao.cmds([\n",
    "    'set lattice model=design',\n",
    "])"
   ]
  },
  {
   "cell_type": "code",
   "execution_count": 6,
   "metadata": {},
   "outputs": [
    {
     "ename": "RuntimeError",
     "evalue": "Command: python evaluate END causes error: ERROR detected: [ERROR | 2024-APR-15 22:55:33] tao_param_value_routine:\n    CANNOT EVALUATE AS DATUM OR VARIABLE VALUE: END\n[ERROR | 2024-APR-15 22:55:33] tao_evaluate_expression:\n    ERROR IN EXPRESSION: END\n    CANNOT EVALUATE: END\n[ERROR | 2024-APR-15 22:55:33] tao_python_cmd:\n    \"python evaluate END\": Invalid expression\nINVALID",
     "output_type": "error",
     "traceback": [
      "\u001b[0;31m---------------------------------------------------------------------------\u001b[0m",
      "\u001b[0;31mRuntimeError\u001b[0m                              Traceback (most recent call last)",
      "Cell \u001b[0;32mIn[6], line 1\u001b[0m\n\u001b[0;32m----> 1\u001b[0m \u001b[43mtao\u001b[49m\u001b[38;5;241;43m.\u001b[39;49m\u001b[43mcmd\u001b[49m\u001b[43m(\u001b[49m\u001b[38;5;124;43m'\u001b[39;49m\u001b[38;5;124;43mpython evaluate END\u001b[39;49m\u001b[38;5;124;43m'\u001b[39;49m\u001b[43m)\u001b[49m\n",
      "File \u001b[0;32m~/.pyenv/versions/3.9.15/lib/python3.9/site-packages/pytao/tao_ctypes/core.py:157\u001b[0m, in \u001b[0;36mTao.cmd\u001b[0;34m(self, cmd, raises)\u001b[0m\n\u001b[1;32m    155\u001b[0m err \u001b[38;5;241m=\u001b[39m error_in_lines(lines)\n\u001b[1;32m    156\u001b[0m \u001b[38;5;28;01mif\u001b[39;00m err:\n\u001b[0;32m--> 157\u001b[0m     \u001b[38;5;28;01mraise\u001b[39;00m \u001b[38;5;167;01mRuntimeError\u001b[39;00m(\u001b[38;5;124mf\u001b[39m\u001b[38;5;124m'\u001b[39m\u001b[38;5;124mCommand: \u001b[39m\u001b[38;5;132;01m{\u001b[39;00mcmd\u001b[38;5;132;01m}\u001b[39;00m\u001b[38;5;124m causes error: \u001b[39m\u001b[38;5;132;01m{\u001b[39;00merr\u001b[38;5;132;01m}\u001b[39;00m\u001b[38;5;124m'\u001b[39m)\n\u001b[1;32m    159\u001b[0m \u001b[38;5;28;01mreturn\u001b[39;00m lines\n",
      "\u001b[0;31mRuntimeError\u001b[0m: Command: python evaluate END causes error: ERROR detected: [ERROR | 2024-APR-15 22:55:33] tao_param_value_routine:\n    CANNOT EVALUATE AS DATUM OR VARIABLE VALUE: END\n[ERROR | 2024-APR-15 22:55:33] tao_evaluate_expression:\n    ERROR IN EXPRESSION: END\n    CANNOT EVALUATE: END\n[ERROR | 2024-APR-15 22:55:33] tao_python_cmd:\n    \"python evaluate END\": Invalid expression\nINVALID"
     ]
    }
   ],
   "source": [
    "tao.cmd('python evaluate END')"
   ]
  },
  {
   "cell_type": "code",
   "execution_count": 7,
   "metadata": {},
   "outputs": [
    {
     "ename": "AttributeError",
     "evalue": "'Tao' object has no attribute 'bunch_params_real'",
     "output_type": "error",
     "traceback": [
      "\u001b[0;31m---------------------------------------------------------------------------\u001b[0m",
      "\u001b[0;31mAttributeError\u001b[0m                            Traceback (most recent call last)",
      "Cell \u001b[0;32mIn[7], line 1\u001b[0m\n\u001b[0;32m----> 1\u001b[0m stats \u001b[38;5;241m=\u001b[39m \u001b[43mtao\u001b[49m\u001b[38;5;241;43m.\u001b[39;49m\u001b[43mbunch_params_real\u001b[49m(\u001b[38;5;124m'\u001b[39m\u001b[38;5;124mEND\u001b[39m\u001b[38;5;124m'\u001b[39m)\n\u001b[1;32m      2\u001b[0m stats\n",
      "\u001b[0;31mAttributeError\u001b[0m: 'Tao' object has no attribute 'bunch_params_real'"
     ]
    }
   ],
   "source": [
    "stats = tao.bunch_params('END')\n",
    "stats"
   ]
  },
  {
   "cell_type": "code",
   "execution_count": null,
   "metadata": {},
   "outputs": [
    {
     "data": {
      "text/plain": [
       "False"
      ]
     },
     "execution_count": 8,
     "metadata": {},
     "output_type": "execute_result"
    }
   ],
   "source": [
    "stats['beam_saved']"
   ]
  },
  {
   "cell_type": "code",
   "execution_count": null,
   "metadata": {},
   "outputs": [
    {
     "data": {
      "text/plain": [
       "array([], dtype=float64)"
      ]
     },
     "execution_count": 9,
     "metadata": {},
     "output_type": "execute_result"
    }
   ],
   "source": [
    "tao.bunch1('end', 'x')"
   ]
  },
  {
   "cell_type": "code",
   "execution_count": null,
   "metadata": {},
   "outputs": [
    {
     "data": {
      "text/plain": [
       "array([], dtype=float64)"
      ]
     },
     "execution_count": 10,
     "metadata": {},
     "output_type": "execute_result"
    }
   ],
   "source": [
    "tao.bunch1('end', 'x')[0:10]"
   ]
  },
  {
   "cell_type": "code",
   "execution_count": null,
   "metadata": {},
   "outputs": [],
   "source": []
  }
 ],
 "metadata": {
  "kernelspec": {
   "display_name": "Python 3",
   "language": "python",
   "name": "python3"
  },
  "language_info": {
   "codemirror_mode": {
    "name": "ipython",
    "version": 3
   },
   "file_extension": ".py",
   "mimetype": "text/x-python",
   "name": "python",
   "nbconvert_exporter": "python",
   "pygments_lexer": "ipython3",
   "version": "3.9.15"
  }
 },
 "nbformat": 4,
 "nbformat_minor": 2
}

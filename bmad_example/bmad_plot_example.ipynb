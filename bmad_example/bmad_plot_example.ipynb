{
 "cells": [
  {
   "cell_type": "markdown",
   "metadata": {},
   "source": [
    "# INSTALLATION:\n",
    "### install bmad:\n",
    "* `sudo dnf install rscode-bmad` \n",
    "    * I ran into conflicting file issues with the install. Here is how to resolve:\n",
    "    * delete the conflicting ones `sudo dnf remove ...`  (DO NOT REMOVE RSCODE-COMMON THOUGH)\n",
    "    * upgrade rscode-common `sudo dnf upgrade rscode-common`\n",
    "    * reinstall the removed ones `sudo dnf install ...`\n",
    "    * then `sudo dnf install rscode-bmad` worked\n",
    "### install pytao \n",
    "* `gcl https://github.com/bmad-sim/pytao.git`\n",
    "* `cd /pytao`\n",
    "* `pip install -e .`"
   ]
  },
  {
   "cell_type": "markdown",
   "metadata": {},
   "source": []
  },
  {
   "cell_type": "markdown",
   "metadata": {},
   "source": [
    "### FILES FOR tao\n",
    "### OMP_NUM_THREADS?"
   ]
  },
  {
   "cell_type": "code",
   "execution_count": 1,
   "metadata": {},
   "outputs": [],
   "source": [
    "from pytao import Tao\n",
    "from pmd_beamphysics import ParticleGroup\n",
    "import matplotlib.pyplot as plt\n",
    "import numpy as np"
   ]
  },
  {
   "cell_type": "code",
   "execution_count": 2,
   "metadata": {},
   "outputs": [
    {
     "name": "stdout",
     "output_type": "stream",
     "text": [
      "cmd.endcode() b'-init tao.init -lat x.lat -noplot'\n"
     ]
    }
   ],
   "source": [
    "# tao=Tao(' -lat x.lat -noplot')\n",
    "tao=Tao('-init tao.init -lat x.lat -noplot')"
   ]
  },
  {
   "cell_type": "code",
   "execution_count": 3,
   "metadata": {},
   "outputs": [
    {
     "data": {
      "text/plain": [
       "['# Values shown are for the Exit End of each Element:',\n",
       " '# Index  name          key                       s       l    beta   phi_a    eta   orbit    beta   phi_b    eta   orbit  Track',\n",
       " '#                                                                a   [2pi]      x  x [mm]       b   [2pi]      y  y [mm]  State',\n",
       " '      1  IP_L0         Marker                0.000   0.000    0.95   0.000  -0.00  -0.017    0.02   0.000   0.00   0.001  Alive',\n",
       " '      2  CLEO_SOL#3    Solenoid              0.622   0.622    1.34   0.093  -0.02   1.470   21.81   0.244   0.00   0.041  Alive',\n",
       " '      3  DET_00W       Marker                0.622   0.000    1.34   0.093  -0.02   1.470   21.81   0.244   0.00   0.041  Alive',\n",
       " '      4  CLEO_SOL#4    Solenoid              0.638   0.016    1.36   0.094  -0.02   1.507   22.92   0.244   0.00   0.043  Alive',\n",
       " '      5  Q00W\\\\CLEO_SOL Sol_Quad              1.755   1.117    7.73   0.160  -0.09   5.505   88.01   0.247  -0.01   0.486  Alive',\n",
       " '      6  Q00W#1        Quadrupole            2.163   0.408   15.96   0.166  -0.13   8.151   76.38   0.248  -0.01   0.717  Alive',\n",
       " '      7  D003          Drift                 2.493   0.331   27.02   0.169  -0.17  10.705   60.25   0.249  -0.02   0.931  Alive',\n",
       " '      8  DET_01W       Marker                2.493   0.000   27.02   0.169  -0.17  10.705   60.25   0.249  -0.02   0.931  Alive',\n",
       " '      9  D004          Drift                 2.924   0.431   45.79   0.171  -0.22  14.030   42.12   0.250  -0.02   1.209  Alive',\n",
       " '     10  Q01W          Quadrupole            3.874   0.950   66.94   0.173  -0.26  16.851   28.95   0.255  -0.02   1.213  Alive',\n",
       " '# Index  name          key                       s       l    beta   phi_a    eta   orbit    beta   phi_b    eta   orbit  Track',\n",
       " '#                                                                a   [2pi]      x  x [mm]       b   [2pi]      y  y [mm]  State',\n",
       " '# Values shown are for the Exit End of each Element:']"
      ]
     },
     "execution_count": 3,
     "metadata": {},
     "output_type": "execute_result"
    }
   ],
   "source": [
    "tao.cmd('show lat 1:10')"
   ]
  },
  {
   "cell_type": "code",
   "execution_count": 4,
   "metadata": {},
   "outputs": [
    {
     "data": {
      "text/plain": [
       "[[], []]"
      ]
     },
     "execution_count": 4,
     "metadata": {},
     "output_type": "execute_result"
    }
   ],
   "source": [
    "tao.cmds(\n",
    "    ['set lattice model=design',\n",
    "     'set ele Q00W x_offset = 1e-6']\n",
    ")"
   ]
  },
  {
   "cell_type": "code",
   "execution_count": 5,
   "metadata": {},
   "outputs": [
    {
     "data": {
      "text/plain": [
       "['x;REAL;F; -1.77207910292979E-05',\n",
       " 'px;REAL;F;  2.39054798135120E-03',\n",
       " 'y;REAL;F;  9.77805901537352E-07',\n",
       " 'py;REAL;F;  2.91412237467723E-06',\n",
       " 'z;REAL;F; -3.99530687474893E-04',\n",
       " 'pz;REAL;F; -7.17210139012370E-06',\n",
       " 'spin;REAL_ARR;F;  0.00000000000000E+00;  0.00000000000000E+00;  0.00000000000000E+00',\n",
       " 'field;REAL_ARR;F;  0.00000000000000E+00;  0.00000000000000E+00',\n",
       " 'phase;REAL_ARR;F;  0.00000000000000E+00;  0.00000000000000E+00',\n",
       " 's;REAL;F;  7.68426421416168E+02',\n",
       " 't;REAL;F;  2.56319600136698E-06',\n",
       " 'charge;REAL;F;  0.00000000000000E+00',\n",
       " 'dt_ref;REAL;F;  0.00000000000000E+00',\n",
       " 'p0c;REAL;F;  5.28899997531481E+09',\n",
       " 'beta;REAL;F;  9.99999995332663E-01',\n",
       " 'ix_ele;INT;F;868',\n",
       " 'state;STR;F;Alive',\n",
       " 'direction;INT;F;1',\n",
       " 'species;SPECIES;F;Electron',\n",
       " 'location;STR;F;Downstream_End']"
      ]
     },
     "execution_count": 5,
     "metadata": {},
     "output_type": "execute_result"
    }
   ],
   "source": [
    "tao.cmd('python orbit_at_s end')"
   ]
  },
  {
   "cell_type": "code",
   "execution_count": 6,
   "metadata": {},
   "outputs": [
    {
     "data": {
      "text/plain": [
       "[]"
      ]
     },
     "execution_count": 6,
     "metadata": {},
     "output_type": "execute_result"
    }
   ],
   "source": [
    "tao.cmd('python lat_list -array_out 1@0>>Q*|model orbit.floor.x')"
   ]
  },
  {
   "cell_type": "code",
   "execution_count": 7,
   "metadata": {},
   "outputs": [
    {
     "data": {
      "text/plain": [
       "array([ 0.00000000e+00,  5.50519227e-03,  8.15061849e-03,  1.68506712e-02,\n",
       "        1.30498232e-02, -1.28475438e-01, -6.17368437e-01, -1.63573126e+00,\n",
       "       -3.15361609e+00, -4.96008216e+00, -8.44394576e+00, -1.25353213e+01,\n",
       "       -1.53643077e+01, -1.93160719e+01, -2.35334256e+01, -2.86596035e+01,\n",
       "       -3.40012341e+01, -4.11157702e+01, -4.73379418e+01, -5.39309791e+01,\n",
       "       -6.08761235e+01, -6.66395259e+01, -7.38887343e+01, -8.14004767e+01,\n",
       "       -8.91380421e+01, -9.70602503e+01, -1.07067453e+02, -1.15219118e+02,\n",
       "       -1.23415239e+02, -1.31835984e+02, -1.39984608e+02, -1.48267474e+02,\n",
       "       -1.57243533e+02, -1.65204340e+02, -1.72728163e+02, -1.80184446e+02,\n",
       "       -1.85357654e+02, -1.92035945e+02, -2.00803297e+02, -2.06870811e+02,\n",
       "       -2.12665465e+02, -2.18176442e+02, -2.23048894e+02, -2.27424214e+02,\n",
       "       -2.31268351e+02, -2.34552350e+02, -2.35722776e+02, -2.38140768e+02,\n",
       "       -2.39786174e+02, -2.41460795e+02, -2.42244506e+02, -2.42601932e+02,\n",
       "       -2.42642705e+02, -2.42650645e+02, -2.42653709e+02, -2.42654860e+02,\n",
       "       -2.42659283e+02, -2.42665715e+02, -2.42598206e+02, -2.42184674e+02,\n",
       "       -2.41366882e+02, -2.39606403e+02, -2.37970183e+02, -2.35481963e+02,\n",
       "       -2.34317756e+02, -2.30993039e+02, -2.27125231e+02, -2.22727551e+02,\n",
       "       -2.17816004e+02, -2.12280141e+02, -2.06437555e+02, -2.00332917e+02,\n",
       "       -1.91531576e+02, -1.84820355e+02, -1.79653411e+02, -1.72176809e+02,\n",
       "       -1.64644374e+02, -1.56674250e+02, -1.47685973e+02, -1.39396225e+02,\n",
       "       -1.31238484e+02, -1.22815238e+02, -1.14621366e+02, -1.06478606e+02,\n",
       "       -9.64783788e+01, -8.85696847e+01, -8.08418091e+01, -7.33402427e+01,\n",
       "       -6.61118703e+01, -6.03400294e+01, -5.34245487e+01, -4.68515948e+01,\n",
       "       -4.06754335e+01, -3.36162850e+01, -2.82979320e+01, -2.32077253e+01,\n",
       "       -1.88775830e+01, -1.50782620e+01, -1.22578107e+01, -8.16225874e+00,\n",
       "       -4.68317228e+00, -2.92445682e+00, -1.48689125e+00, -5.48022495e-01,\n",
       "       -1.20827634e-01, -1.39453226e-02, -1.41528499e-02,  1.91718062e-06,\n",
       "       -5.55948643e-03, -1.54020138e-03])"
      ]
     },
     "execution_count": 7,
     "metadata": {},
     "output_type": "execute_result"
    }
   ],
   "source": [
    "tao.cmd_real('python lat_list -array_out 1@0>>Q*|model orbit.floor.x')"
   ]
  },
  {
   "cell_type": "code",
   "execution_count": 8,
   "metadata": {},
   "outputs": [
    {
     "data": {
      "text/plain": [
       "{'x': 0.0031086901274775,\n",
       " 'px': 0.00344600568175248,\n",
       " 'y': 0.000183189785853986,\n",
       " 'py': 0.000248941211793991,\n",
       " 'z': -0.000403681671684383,\n",
       " 'pz': -7.17210138887265e-06,\n",
       " 'spin': array([0., 0., 0.]),\n",
       " 'field': array([0., 0.]),\n",
       " 'phase': array([0., 0.]),\n",
       " 's': 1.2,\n",
       " 't': 4.00411569818175e-09,\n",
       " 'charge': 0.0,\n",
       " 'dt_ref': 0.0,\n",
       " 'p0c': 5288999975.31481,\n",
       " 'beta': 0.999999995332663,\n",
       " 'ix_ele': 5,\n",
       " 'state': 'Alive',\n",
       " 'direction': 1,\n",
       " 'species': 'Electron',\n",
       " 'location': 'Inside'}"
      ]
     },
     "execution_count": 8,
     "metadata": {},
     "output_type": "execute_result"
    }
   ],
   "source": [
    "tao.orbit_at_s(s_offset=1.2)"
   ]
  },
  {
   "cell_type": "code",
   "execution_count": 9,
   "metadata": {},
   "outputs": [
    {
     "name": "stdout",
     "output_type": "stream",
     "text": [
      "python lat_list -array_out -track_only @>>*|model ele.s\n"
     ]
    },
    {
     "data": {
      "text/plain": [
       "array([0.      , 0.      , 0.622301, 0.622301, 0.637956])"
      ]
     },
     "execution_count": 9,
     "metadata": {},
     "output_type": "execute_result"
    }
   ],
   "source": [
    "s = tao.lat_list('*', 'ele.s', verbose=True)\n",
    "s[0:5]"
   ]
  },
  {
   "cell_type": "code",
   "execution_count": 10,
   "metadata": {},
   "outputs": [
    {
     "data": {
      "text/plain": [
       "(dtype('<i4'), dtype('<i4'))"
      ]
     },
     "execution_count": 10,
     "metadata": {},
     "output_type": "execute_result"
    }
   ],
   "source": [
    "state = tao.lat_list('*', 'orbit.state')\n",
    "ix = tao.lat_list('*', 'ele.ix_ele')\n",
    "state.dtype, ix.dtype"
   ]
  },
  {
   "cell_type": "code",
   "execution_count": 11,
   "metadata": {},
   "outputs": [
    {
     "data": {
      "text/plain": [
       "[<matplotlib.lines.Line2D at 0x7f196388f4f0>]"
      ]
     },
     "execution_count": 11,
     "metadata": {},
     "output_type": "execute_result"
    },
    {
     "data": {
      "image/png": "[encoded data removed]",
      "text/plain": [
       "<Figure size 640x480 with 1 Axes>"
      ]
     },
     "metadata": {},
     "output_type": "display_data"
    }
   ],
   "source": [
    "plt.plot(\n",
    "    tao.lat_list('*', 'ele.s'),\n",
    "    tao.lat_list('*', 'orbit.vec.1'),\n",
    "    marker='.'\n",
    ")"
   ]
  },
  {
   "cell_type": "code",
   "execution_count": 12,
   "metadata": {},
   "outputs": [
    {
     "data": {
      "text/plain": [
       "array([ 2.81123075e-03, -1.06250116e-03,  1.37663906e-04,  3.08061464e-04,\n",
       "       -3.66558772e-04, -3.42869819e-04, -9.92517178e-06,  1.28279238e-03,\n",
       "        2.66250141e-03,  2.68364369e-03])"
      ]
     },
     "execution_count": 12,
     "metadata": {},
     "output_type": "execute_result"
    }
   ],
   "source": [
    "tao.evaluate('data::cbar.11[1:10]|model')"
   ]
  },
  {
   "cell_type": "code",
   "execution_count": 13,
   "metadata": {},
   "outputs": [
    {
     "data": {
      "text/plain": [
       "dict_keys(['twiss_beta_x', 'twiss_alpha_x', 'twiss_gamma_x', 'twiss_phi_x', 'twiss_eta_x', 'twiss_etap_x', 'twiss_sigma_x', 'twiss_sigma_p_x', 'twiss_emit_x', 'twiss_norm_emit_x', 'twiss_beta_y', 'twiss_alpha_y', 'twiss_gamma_y', 'twiss_phi_y', 'twiss_eta_y', 'twiss_etap_y', 'twiss_sigma_y', 'twiss_sigma_p_y', 'twiss_emit_y', 'twiss_norm_emit_y', 'twiss_beta_z', 'twiss_alpha_z', 'twiss_gamma_z', 'twiss_phi_z', 'twiss_eta_z', 'twiss_etap_z', 'twiss_sigma_z', 'twiss_sigma_p_z', 'twiss_emit_z', 'twiss_norm_emit_z', 'twiss_beta_a', 'twiss_alpha_a', 'twiss_gamma_a', 'twiss_phi_a', 'twiss_eta_a', 'twiss_etap_a', 'twiss_sigma_a', 'twiss_sigma_p_a', 'twiss_emit_a', 'twiss_norm_emit_a', 'twiss_beta_b', 'twiss_alpha_b', 'twiss_gamma_b', 'twiss_phi_b', 'twiss_eta_b', 'twiss_etap_b', 'twiss_sigma_b', 'twiss_sigma_p_b', 'twiss_emit_b', 'twiss_norm_emit_b', 'twiss_beta_c', 'twiss_alpha_c', 'twiss_gamma_c', 'twiss_phi_c', 'twiss_eta_c', 'twiss_etap_c', 'twiss_sigma_c', 'twiss_sigma_p_c', 'twiss_emit_c', 'twiss_norm_emit_c', 'sigma_11', 'sigma_12', 'sigma_13', 'sigma_14', 'sigma_15', 'sigma_16', 'sigma_21', 'sigma_22', 'sigma_23', 'sigma_24', 'sigma_25', 'sigma_26', 'sigma_31', 'sigma_32', 'sigma_33', 'sigma_34', 'sigma_35', 'sigma_36', 'sigma_41', 'sigma_42', 'sigma_43', 'sigma_44', 'sigma_45', 'sigma_46', 'sigma_51', 'sigma_52', 'sigma_53', 'sigma_54', 'sigma_55', 'sigma_56', 'sigma_61', 'sigma_62', 'sigma_63', 'sigma_64', 'sigma_65', 'sigma_66', 'rel_min_1', 'rel_max_1', 'centroid_vec_1', 'rel_min_2', 'rel_max_2', 'centroid_vec_2', 'rel_min_3', 'rel_max_3', 'centroid_vec_3', 'rel_min_4', 'rel_max_4', 'centroid_vec_4', 'rel_min_5', 'rel_max_5', 'centroid_vec_5', 'rel_min_6', 'rel_max_6', 'centroid_vec_6', 'centroid_t', 'centroid_p0c', 'centroid_beta', 'ix_ele', 'direction', 'species', 'location', 's', 't', 'sigma_t', 'charge_live', 'n_particle_tot', 'n_particle_live', 'n_particle_lost_in_ele', 'beam_saved'])"
      ]
     },
     "execution_count": 13,
     "metadata": {},
     "output_type": "execute_result"
    }
   ],
   "source": [
    "stats = tao.bunch_params('end')\n",
    "stats.keys()"
   ]
  },
  {
   "cell_type": "code",
   "execution_count": 15,
   "metadata": {},
   "outputs": [
    {
     "data": {
      "text/plain": [
       "<matplotlib.collections.PathCollection at 0x7f195e701850>"
      ]
     },
     "execution_count": 15,
     "metadata": {},
     "output_type": "execute_result"
    },
    {
     "data": {
      "image/png": "[encoded data removed]",
      "text/plain": [
       "<Figure size 640x480 with 1 Axes>"
      ]
     },
     "metadata": {},
     "output_type": "display_data"
    }
   ],
   "source": [
    "x = tao.bunch1('end', coordinate='x')\n",
    "px = tao.bunch1('end', coordinate='px')\n",
    "plt.scatter(x, px)"
   ]
  },
  {
   "cell_type": "code",
   "execution_count": 12,
   "metadata": {},
   "outputs": [
    {
     "ename": "TypeError",
     "evalue": "data() missing 1 required positional argument: 'd1_name'",
     "output_type": "error",
     "traceback": [
      "\u001b[0;31m---------------------------------------------------------------------------\u001b[0m",
      "\u001b[0;31mTypeError\u001b[0m                                 Traceback (most recent call last)",
      "Cell \u001b[0;32mIn[12], line 1\u001b[0m\n\u001b[0;32m----> 1\u001b[0m data \u001b[38;5;241m=\u001b[39m \u001b[43mtao\u001b[49m\u001b[38;5;241;43m.\u001b[39;49m\u001b[43mdata\u001b[49m\u001b[43m(\u001b[49m\u001b[38;5;124;43m'\u001b[39;49m\u001b[38;5;124;43mend\u001b[39;49m\u001b[38;5;124;43m'\u001b[39;49m\u001b[43m)\u001b[49m\n\u001b[1;32m      2\u001b[0m data\u001b[38;5;241m.\u001b[39mkeys()\n",
      "\u001b[0;31mTypeError\u001b[0m: data() missing 1 required positional argument: 'd1_name'"
     ]
    }
   ],
   "source": [
    "data = tao.data('end')\n",
    "data.keys()"
   ]
  },
  {
   "cell_type": "code",
   "execution_count": null,
   "metadata": {},
   "outputs": [],
   "source": []
  },
  {
   "cell_type": "code",
   "execution_count": 12,
   "metadata": {},
   "outputs": [
    {
     "name": "stdout",
     "output_type": "stream",
     "text": [
      "['__class__', '__delattr__', '__dir__', '__eq__', '__format__', '__ge__', '__getattribute__', '__gt__', '__hash__', '__init__', '__init_subclass__', '__le__', '__lt__', '__ne__', '__new__', '__reduce__', '__reduce_ex__', '__repr__', '__setattr__', '__sizeof__', '__str__', '__subclasshook__', '_import_commands', 'beam', 'beam_init', 'bmad_com', 'branch1', 'building_wall_graph', 'building_wall_list', 'building_wall_point', 'building_wall_section', 'bunch1', 'bunch_comb', 'bunch_data', 'bunch_params', 'cmd', 'cmd_integer', 'cmd_real', 'cmds', 'constraints', 'da_aperture', 'da_params', 'data', 'data_d1_array', 'data_d2', 'data_d2_array', 'data_d2_create', 'data_d2_destroy', 'data_d_array', 'data_parameter', 'data_set_design_value', 'datum_create', 'datum_has_ele', 'derivative', 'ele_ac_kicker', 'ele_cartesian_map', 'ele_chamber_wall', 'ele_control_var', 'ele_cylindrical_map', 'ele_elec_multipoles', 'ele_floor', 'ele_gen_attribs', 'ele_gen_grad_map', 'ele_grid_field', 'ele_head', 'ele_lord_slave', 'ele_mat6', 'ele_methods', 'ele_multipoles', 'ele_orbit', 'ele_param', 'ele_photon', 'ele_spin_taylor', 'ele_taylor', 'ele_twiss', 'ele_wake', 'ele_wall3d', 'em_field', 'enum', 'evaluate', 'floor_orbit', 'floor_plan', 'get_output', 'global_opti_de', 'global_optimization', 'help', 'init', 'inum', 'lat_branch_list', 'lat_calc_done', 'lat_ele_list', 'lat_list', 'lat_param_units', 'matrix', 'merit', 'orbit_at_s', 'parse_tao_python_data', 'place_buffer', 'plot1', 'plot_curve', 'plot_curve_manage', 'plot_graph', 'plot_graph_manage', 'plot_histogram', 'plot_lat_layout', 'plot_line', 'plot_list', 'plot_symbol', 'plot_template_manage', 'plot_transfer', 'ptc_com', 'register_cell_magic', 'reset_output', 'ring_general', 'shape_list', 'shape_manage', 'shape_pattern_list', 'shape_pattern_manage', 'shape_pattern_point_manage', 'shape_set', 'show', 'space_charge_com', 'species_to_int', 'species_to_str', 'spin_invariant', 'spin_polarization', 'spin_resonance', 'super_universe', 'tao_global', 'tao_parameter_dict', 'taylor_map', 'twiss_at_s', 'universe', 'var', 'var_create', 'var_general', 'var_v1_array', 'var_v1_create', 'var_v1_destroy', 'var_v_array', 'wave']\n"
     ]
    }
   ],
   "source": [
    "methods = [method for method in dir(tao) if callable(getattr(tao, method))]\n",
    "print(methods)"
   ]
  },
  {
   "cell_type": "code",
   "execution_count": 8,
   "metadata": {},
   "outputs": [
    {
     "data": {
      "text/plain": [
       "array([], dtype=float64)"
      ]
     },
     "execution_count": 8,
     "metadata": {},
     "output_type": "execute_result"
    }
   ],
   "source": [
    "data[\"x\"]"
   ]
  },
  {
   "cell_type": "code",
   "execution_count": 9,
   "metadata": {},
   "outputs": [
    {
     "data": {
      "text/plain": [
       "array([], dtype=float64)"
      ]
     },
     "execution_count": 9,
     "metadata": {},
     "output_type": "execute_result"
    }
   ],
   "source": [
    "data[\"y\"]"
   ]
  },
  {
   "cell_type": "code",
   "execution_count": 10,
   "metadata": {},
   "outputs": [],
   "source": [
    "P = ParticleGroup(data=data)\n",
    "\n",
    "# P.plot('x', 'px')"
   ]
  },
  {
   "cell_type": "code",
   "execution_count": 11,
   "metadata": {},
   "outputs": [
    {
     "data": {
      "text/plain": [
       "<ParticleGroup with 0 particles at 0x7f5382aeca00>"
      ]
     },
     "execution_count": 11,
     "metadata": {},
     "output_type": "execute_result"
    }
   ],
   "source": [
    "P"
   ]
  },
  {
   "cell_type": "code",
   "execution_count": 16,
   "metadata": {},
   "outputs": [
    {
     "ename": "RuntimeError",
     "evalue": "Command: write beam -at end test.h5 causes error: ERROR detected: [ERROR | 2024-APR-15 17:34:18] tao_python_cmd:\n    \"python bunch1 end|model 1 x\": BEAM NOT SAVED AT ELEMENT.\nINVALID\n[ERROR | 2024-APR-15 17:34:18] tao_python_cmd:\n    \"python bunch1 end|model 1 px\": BEAM NOT SAVED AT ELEMENT.\nINVALID\n[ERROR | 2024-APR-15 17:34:18] tao_python_cmd:\n    \"python bunch1 end|model 1 y\": BEAM NOT SAVED AT ELEMENT.\nINVALID\n[ERROR | 2024-APR-15 17:34:18] tao_python_cmd:\n    \"python bunch1 end|model 1 py\": BEAM NOT SAVED AT ELEMENT.\nINVALID\n[ERROR | 2024-APR-15 17:34:18] tao_python_cmd:\n    \"python bunch1 end|model 1 t\": BEAM NOT SAVED AT ELEMENT.\nINVALID\n[ERROR | 2024-APR-15 17:34:18] tao_python_cmd:\n    \"python bunch1 end|model 1 pz\": BEAM NOT SAVED AT ELEMENT.\nINVALID\n[ERROR | 2024-APR-15 17:34:18] tao_python_cmd:\n    \"python bunch1 end|model 1 p0c\": BEAM NOT SAVED AT ELEMENT.\nINVALID\n[ERROR | 2024-APR-15 17:34:18] tao_python_cmd:\n    \"python bunch1 end|model 1 charge\": BEAM NOT SAVED AT ELEMENT.\nINVALID\n[ERROR | 2024-APR-15 17:34:18] tao_python_cmd:\n    \"python bunch1 end|model 1 state\": BEAM NOT SAVED AT ELEMENT.\nINVALID\n[ERROR | 2024-APR-15 17:35:54] tao_write_cmd:\n    BEAM NOT SAVED AT THIS ELEMENT.\n    CHECK THE SETTING OF THE SAVED_AT COMPONENT OF THE TAO_BEAM_INIT NAMELIST.\n    ANOTHER POSSIBILITY IS THAT GLOBAL%TRACK_TYPE = \"single\" SO NO BEAM TRACKING HAS BEEN DONE.",
     "output_type": "error",
     "traceback": [
      "\u001b[0;31m---------------------------------------------------------------------------\u001b[0m",
      "\u001b[0;31mRuntimeError\u001b[0m                              Traceback (most recent call last)",
      "Cell \u001b[0;32mIn[16], line 1\u001b[0m\n\u001b[0;32m----> 1\u001b[0m \u001b[43mtao\u001b[49m\u001b[38;5;241;43m.\u001b[39;49m\u001b[43mcmd\u001b[49m\u001b[43m(\u001b[49m\u001b[38;5;124;43m'\u001b[39;49m\u001b[38;5;124;43mwrite beam -at end test.h5\u001b[39;49m\u001b[38;5;124;43m'\u001b[39;49m\u001b[43m)\u001b[49m\n\u001b[1;32m      2\u001b[0m P2 \u001b[38;5;241m=\u001b[39m ParticleGroup(\u001b[38;5;124m'\u001b[39m\u001b[38;5;124mtest.h5\u001b[39m\u001b[38;5;124m'\u001b[39m)\n",
      "File \u001b[0;32m~/src/radiasoft/pytao/pytao/tao_ctypes/core.py:159\u001b[0m, in \u001b[0;36mTao.cmd\u001b[0;34m(self, cmd, raises)\u001b[0m\n\u001b[1;32m    157\u001b[0m err \u001b[38;5;241m=\u001b[39m error_in_lines(lines)\n\u001b[1;32m    158\u001b[0m \u001b[38;5;28;01mif\u001b[39;00m err:\n\u001b[0;32m--> 159\u001b[0m     \u001b[38;5;28;01mraise\u001b[39;00m \u001b[38;5;167;01mRuntimeError\u001b[39;00m(\u001b[38;5;124mf\u001b[39m\u001b[38;5;124m'\u001b[39m\u001b[38;5;124mCommand: \u001b[39m\u001b[38;5;132;01m{\u001b[39;00mcmd\u001b[38;5;132;01m}\u001b[39;00m\u001b[38;5;124m causes error: \u001b[39m\u001b[38;5;132;01m{\u001b[39;00merr\u001b[38;5;132;01m}\u001b[39;00m\u001b[38;5;124m'\u001b[39m)\n\u001b[1;32m    161\u001b[0m \u001b[38;5;28;01mreturn\u001b[39;00m lines\n",
      "\u001b[0;31mRuntimeError\u001b[0m: Command: write beam -at end test.h5 causes error: ERROR detected: [ERROR | 2024-APR-15 17:34:18] tao_python_cmd:\n    \"python bunch1 end|model 1 x\": BEAM NOT SAVED AT ELEMENT.\nINVALID\n[ERROR | 2024-APR-15 17:34:18] tao_python_cmd:\n    \"python bunch1 end|model 1 px\": BEAM NOT SAVED AT ELEMENT.\nINVALID\n[ERROR | 2024-APR-15 17:34:18] tao_python_cmd:\n    \"python bunch1 end|model 1 y\": BEAM NOT SAVED AT ELEMENT.\nINVALID\n[ERROR | 2024-APR-15 17:34:18] tao_python_cmd:\n    \"python bunch1 end|model 1 py\": BEAM NOT SAVED AT ELEMENT.\nINVALID\n[ERROR | 2024-APR-15 17:34:18] tao_python_cmd:\n    \"python bunch1 end|model 1 t\": BEAM NOT SAVED AT ELEMENT.\nINVALID\n[ERROR | 2024-APR-15 17:34:18] tao_python_cmd:\n    \"python bunch1 end|model 1 pz\": BEAM NOT SAVED AT ELEMENT.\nINVALID\n[ERROR | 2024-APR-15 17:34:18] tao_python_cmd:\n    \"python bunch1 end|model 1 p0c\": BEAM NOT SAVED AT ELEMENT.\nINVALID\n[ERROR | 2024-APR-15 17:34:18] tao_python_cmd:\n    \"python bunch1 end|model 1 charge\": BEAM NOT SAVED AT ELEMENT.\nINVALID\n[ERROR | 2024-APR-15 17:34:18] tao_python_cmd:\n    \"python bunch1 end|model 1 state\": BEAM NOT SAVED AT ELEMENT.\nINVALID\n[ERROR | 2024-APR-15 17:35:54] tao_write_cmd:\n    BEAM NOT SAVED AT THIS ELEMENT.\n    CHECK THE SETTING OF THE SAVED_AT COMPONENT OF THE TAO_BEAM_INIT NAMELIST.\n    ANOTHER POSSIBILITY IS THAT GLOBAL%TRACK_TYPE = \"single\" SO NO BEAM TRACKING HAS BEEN DONE."
     ]
    }
   ],
   "source": [
    "tao.cmd('write beam -at end test.h5')\n",
    "P2 = ParticleGroup('test.h5')"
   ]
  },
  {
   "cell_type": "code",
   "execution_count": null,
   "metadata": {},
   "outputs": [],
   "source": [
    "P2"
   ]
  }
 ],
 "metadata": {
  "kernelspec": {
   "display_name": "Python 3",
   "language": "python",
   "name": "python3"
  },
  "language_info": {
   "codemirror_mode": {
    "name": "ipython",
    "version": 3
   },
   "file_extension": ".py",
   "mimetype": "text/x-python",
   "name": "python",
   "nbconvert_exporter": "python",
   "pygments_lexer": "ipython3",
   "version": "3.9.15"
  }
 },
 "nbformat": 4,
 "nbformat_minor": 2
}
